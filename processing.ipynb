{
 "cells": [
  {
   "cell_type": "code",
   "execution_count": 1,
   "id": "b058bf0a",
   "metadata": {},
   "outputs": [],
   "source": [
    "import os, pickle, glob, ast, requests, json\n",
    "import pandas as pd\n",
    "import numpy as np\n",
    "from tqdm import tqdm\n",
    "from PIL import Image\n",
    "import matplotlib.pyplot as plt\n",
    "import os"
   ]
  },
  {
   "cell_type": "code",
   "execution_count": null,
   "id": "98bf52b7",
   "metadata": {},
   "outputs": [],
   "source": [
    "import obonet\n",
    "from functools import lru_cache\n",
    "\n",
    "HPO_OBO_URL = \"http://purl.obolibrary.org/obo/hp.obo\"\n",
    "\n",
    "# 1. Load the HPO ontology (as a graph)\n",
    "def load_hpo_graph(url=HPO_OBO_URL):\n",
    "    print(\"Downloading/parsing HPO ontology—this may take a minute…\")\n",
    "    return obonet.read_obo(url)\n",
    "# 2. Define top-level organ/system HPO IDs\n",
    "ORGAN_SYSTEMS = {\n",
    "    \"Cardiovascular system\": \"HP:0001626\",       # Abnormality of the cardiovascular system\n",
    "    \"Respiratory system\": \"HP:0002086\",\n",
    "    \"Nervous system\": \"HP:0000707\",\n",
    "    \"Musculoskeletal system\": \"HP:0000924\",\n",
    "    \"Digestive system\": \"HP:0025031\",\n",
    "    \"Genitourinary system\": \"HP:0000118\",  # Phenotypic abnormality (broad fallback)\n",
    "    \"Eye\": \"HP:0000478\",\n",
    "    \"Ear\": \"HP:0000598\",\n",
    "    \"Endocrine system\": \"HP:0000818\",\n",
    "    \"Hematologic system\": \"HP:0001871\",\n",
    "    \"Integument\": \"HP:0001574\",\n",
    "    \"Immune system\": \"HP:0002715\",\n",
    "    \"Metabolism/homeostasis\": \"HP:0001939\",\n",
    "    \"Multiple systems\": \"HP:0003549\"  # e.g., Multi-system abnormalities\n",
    "}\n",
    "# Inverse lookup: ID -> organ name\n",
    "SYSTEM_BY_ID = {v: k for k, v in ORGAN_SYSTEMS.items()}\n",
    "\n",
    "# 3. Given an HPO ID, traverse upward to assign organ\n",
    "@lru_cache(maxsize=None)\n",
    "def get_organ(hpo_id, graph):\n",
    "    if hpo_id not in graph:\n",
    "        return \"Unknown HPO ID\"\n",
    "    # Walk ancestors using is_a relationships\n",
    "    stack = [hpo_id]\n",
    "    visited = set()\n",
    "    while stack:\n",
    "        term = stack.pop()\n",
    "        if term in SYSTEM_BY_ID:\n",
    "            return SYSTEM_BY_ID[term]\n",
    "        visited.add(term)\n",
    "        for parent in graph.successors(term):  # in obonet graph, edges reversed from is_a\n",
    "            if parent not in visited:\n",
    "                stack.append(parent)\n",
    "    return \"Unknown organ/system\""
   ]
  },
  {
   "cell_type": "code",
   "execution_count": 5,
   "id": "91cf4def",
   "metadata": {},
   "outputs": [
    {
     "data": {
      "text/html": [
       "<div>\n",
       "<style scoped>\n",
       "    .dataframe tbody tr th:only-of-type {\n",
       "        vertical-align: middle;\n",
       "    }\n",
       "\n",
       "    .dataframe tbody tr th {\n",
       "        vertical-align: top;\n",
       "    }\n",
       "\n",
       "    .dataframe thead th {\n",
       "        text-align: right;\n",
       "    }\n",
       "</style>\n",
       "<table border=\"1\" class=\"dataframe\">\n",
       "  <thead>\n",
       "    <tr style=\"text-align: right;\">\n",
       "      <th></th>\n",
       "      <th>filename</th>\n",
       "      <th>patient_id</th>\n",
       "      <th>gene_names</th>\n",
       "      <th>disorder_names</th>\n",
       "      <th>age</th>\n",
       "      <th>ethnicity</th>\n",
       "      <th>phenotypes_vision</th>\n",
       "      <th>phenotypes</th>\n",
       "      <th>absent_phenotypes_vision</th>\n",
       "      <th>absent_phenotypes</th>\n",
       "      <th>facial_check</th>\n",
       "    </tr>\n",
       "  </thead>\n",
       "  <tbody>\n",
       "    <tr>\n",
       "      <th>0</th>\n",
       "      <td>16697.png</td>\n",
       "      <td>10034</td>\n",
       "      <td>AP4M1</td>\n",
       "      <td>SPASTIC PARAPLEGIA 50, AUTOSOMAL RECESSIVE</td>\n",
       "      <td>5 years old</td>\n",
       "      <td>Arab from Iran</td>\n",
       "      <td>{}</td>\n",
       "      <td>{}</td>\n",
       "      <td>{}</td>\n",
       "      <td>{}</td>\n",
       "      <td>False</td>\n",
       "    </tr>\n",
       "    <tr>\n",
       "      <th>1</th>\n",
       "      <td>16696.png</td>\n",
       "      <td>10033</td>\n",
       "      <td>AP4M1</td>\n",
       "      <td>SPASTIC PARAPLEGIA 50, AUTOSOMAL RECESSIVE</td>\n",
       "      <td>3 years 6 months old</td>\n",
       "      <td>Turkish</td>\n",
       "      <td>{}</td>\n",
       "      <td>{}</td>\n",
       "      <td>{}</td>\n",
       "      <td>{}</td>\n",
       "      <td>False</td>\n",
       "    </tr>\n",
       "    <tr>\n",
       "      <th>2</th>\n",
       "      <td>16694.png</td>\n",
       "      <td>10032</td>\n",
       "      <td>AP4M1</td>\n",
       "      <td>SPASTIC PARAPLEGIA 50, AUTOSOMAL RECESSIVE</td>\n",
       "      <td>8 years old</td>\n",
       "      <td>Turkish</td>\n",
       "      <td>{}</td>\n",
       "      <td>{}</td>\n",
       "      <td>{}</td>\n",
       "      <td>{}</td>\n",
       "      <td>False</td>\n",
       "    </tr>\n",
       "    <tr>\n",
       "      <th>3</th>\n",
       "      <td>16693.png</td>\n",
       "      <td>10031</td>\n",
       "      <td>CNOT2</td>\n",
       "      <td>INTELLECTUAL DEVELOPMENTAL DISORDER WITH NASAL...</td>\n",
       "      <td>3 years old</td>\n",
       "      <td>Han Chinese/Caucasian</td>\n",
       "      <td>{}</td>\n",
       "      <td>{}</td>\n",
       "      <td>{}</td>\n",
       "      <td>{}</td>\n",
       "      <td>False</td>\n",
       "    </tr>\n",
       "    <tr>\n",
       "      <th>4</th>\n",
       "      <td>16692.png</td>\n",
       "      <td>10030</td>\n",
       "      <td>CNOT2</td>\n",
       "      <td>INTELLECTUAL DEVELOPMENTAL DISORDER WITH NASAL...</td>\n",
       "      <td>12 years old</td>\n",
       "      <td>Reunion Island</td>\n",
       "      <td>{}</td>\n",
       "      <td>{}</td>\n",
       "      <td>{}</td>\n",
       "      <td>{}</td>\n",
       "      <td>False</td>\n",
       "    </tr>\n",
       "  </tbody>\n",
       "</table>\n",
       "</div>"
      ],
      "text/plain": [
       "    filename  patient_id gene_names  \\\n",
       "0  16697.png       10034      AP4M1   \n",
       "1  16696.png       10033      AP4M1   \n",
       "2  16694.png       10032      AP4M1   \n",
       "3  16693.png       10031      CNOT2   \n",
       "4  16692.png       10030      CNOT2   \n",
       "\n",
       "                                      disorder_names                   age  \\\n",
       "0         SPASTIC PARAPLEGIA 50, AUTOSOMAL RECESSIVE           5 years old   \n",
       "1         SPASTIC PARAPLEGIA 50, AUTOSOMAL RECESSIVE  3 years 6 months old   \n",
       "2         SPASTIC PARAPLEGIA 50, AUTOSOMAL RECESSIVE           8 years old   \n",
       "3  INTELLECTUAL DEVELOPMENTAL DISORDER WITH NASAL...           3 years old   \n",
       "4  INTELLECTUAL DEVELOPMENTAL DISORDER WITH NASAL...          12 years old   \n",
       "\n",
       "               ethnicity phenotypes_vision phenotypes  \\\n",
       "0         Arab from Iran                {}         {}   \n",
       "1                Turkish                {}         {}   \n",
       "2                Turkish                {}         {}   \n",
       "3  Han Chinese/Caucasian                {}         {}   \n",
       "4         Reunion Island                {}         {}   \n",
       "\n",
       "  absent_phenotypes_vision absent_phenotypes  facial_check  \n",
       "0                       {}                {}         False  \n",
       "1                       {}                {}         False  \n",
       "2                       {}                {}         False  \n",
       "3                       {}                {}         False  \n",
       "4                       {}                {}         False  "
      ]
     },
     "execution_count": 5,
     "metadata": {},
     "output_type": "execute_result"
    }
   ],
   "source": [
    "final_data = pd.read_csv('gmdb_phenogpt2.csv', sep = '\\t')\n",
    "final_data.head()"
   ]
  },
  {
   "cell_type": "code",
   "execution_count": 32,
   "id": "33edd6e9",
   "metadata": {},
   "outputs": [
    {
     "name": "stderr",
     "output_type": "stream",
     "text": [
      "7349it [00:00, 20818.72it/s]\n"
     ]
    }
   ],
   "source": [
    "phen2count = {}\n",
    "id2count = {}\n",
    "organ2count = {}\n",
    "for i, row in tqdm(final_data.iterrows()):\n",
    "    phen_values = ast.literal_eval(row['phenotypes_vision'])\n",
    "    if len(phen_values) > 0:\n",
    "        for k,v in phen_values.items():\n",
    "            if k in phen2count:\n",
    "                phen2count[k] += 1\n",
    "            else:\n",
    "                phen2count[k] = 1\n",
    "            if v in id2count:\n",
    "                id2count[v] += 1\n",
    "            else:\n",
    "                id2count[v] = 1\n",
    "                organ = get_organ(v, graph)\n",
    "                if organ in organ2count:\n",
    "                    organ2count[organ] += 1\n",
    "                else:\n",
    "                    organ2count[organ] = 1"
   ]
  },
  {
   "cell_type": "code",
   "execution_count": 29,
   "id": "90fde47d",
   "metadata": {},
   "outputs": [
    {
     "data": {
      "text/plain": [
       "(847, 20341)"
      ]
     },
     "execution_count": 29,
     "metadata": {},
     "output_type": "execute_result"
    }
   ],
   "source": [
    "len(phen2count), sum(list(phen2count.values()))"
   ]
  },
  {
   "cell_type": "code",
   "execution_count": 33,
   "id": "c25dd848",
   "metadata": {},
   "outputs": [
    {
     "data": {
      "text/plain": [
       "{'Musculoskeletal system': 122,\n",
       " 'Genitourinary system': 403,\n",
       " 'Ear': 97,\n",
       " 'Eye': 161,\n",
       " 'Integument': 21,\n",
       " 'Respiratory system': 4,\n",
       " 'Immune system': 15,\n",
       " 'Digestive system': 2,\n",
       " 'Multiple systems': 4,\n",
       " 'Cardiovascular system': 2,\n",
       " 'Nervous system': 14,\n",
       " 'Hematologic system': 2}"
      ]
     },
     "execution_count": 33,
     "metadata": {},
     "output_type": "execute_result"
    }
   ],
   "source": [
    "organ2count"
   ]
  }
 ],
 "metadata": {
  "kernelspec": {
   "display_name": "phenogpt",
   "language": "python",
   "name": "phenogpt"
  },
  "language_info": {
   "codemirror_mode": {
    "name": "ipython",
    "version": 3
   },
   "file_extension": ".py",
   "mimetype": "text/x-python",
   "name": "python",
   "nbconvert_exporter": "python",
   "pygments_lexer": "ipython3",
   "version": "3.11.8"
  }
 },
 "nbformat": 4,
 "nbformat_minor": 5
}
